{
 "cells": [
  {
   "attachments": {},
   "cell_type": "markdown",
   "metadata": {},
   "source": [
    "# Image formation\n",
    "\n",
    "- Given\n",
    "    - World Coornidate 3D Points\n",
    "    - Camera Intrinsic Parameter\n",
    "    - Camera Orientation and Position\n",
    "- Unknown\n",
    "    - Image Plane 2D Points\n"
   ]
  },
  {
   "cell_type": "code",
   "execution_count": 1,
   "metadata": {},
   "outputs": [],
   "source": [
    "import numpy as np\n",
    "import cv2\n",
    "import matplotlib.pyplot as plt\n",
    "import math\n",
    "import csv\n",
    "%matplotlib inline"
   ]
  },
  {
   "attachments": {},
   "cell_type": "markdown",
   "metadata": {},
   "source": [
    "Rotation Matrix   \n",
    "$\n",
    "R_x(\\theta) = \n",
    "\\begin{bmatrix} \n",
    "1 & 0 & 0 \\\\ \n",
    "0 & cos(\\theta) & -sin(\\theta) \\\\\n",
    " 0 & sin(\\theta) & cos(\\theta) \n",
    "\\end{bmatrix} \n",
    "$\n",
    "\n",
    "$\n",
    "R_y(\\theta) = \n",
    "\\begin{bmatrix} \n",
    "cos(\\theta) & 0 & sin(\\theta) \\\\\n",
    "0 & 1 & 0 \\\\ \n",
    "-sin(\\theta) & 0 & cos(\\theta) \n",
    "\\end{bmatrix} \n",
    "$\n",
    "\n",
    "$\n",
    "R_z(\\theta) = \n",
    "\\begin{bmatrix} \n",
    "cos(\\theta) & -sin(\\theta) & 0 \\\\\n",
    "sin(\\theta) & cos(\\theta) & 0 \\\\\n",
    "0 & 0 & 1 \n",
    "\\end{bmatrix} \n",
    "$"
   ]
  },
  {
   "cell_type": "code",
   "execution_count": 2,
   "metadata": {},
   "outputs": [],
   "source": [
    "def RX(rx):\n",
    "    return np.array([[1., 0, 0],\n",
    "                     [0, math.cos(rx), -math.sin(rx)],\n",
    "                     [0, math.sin(rx), math.cos(rx)]], dtype=np.float32)\n",
    "    \n",
    "def RY(ry):\n",
    "    return np.array([[math.cos(ry), 0, math.sin(ry)],\n",
    "                     [0, 1, 0],\n",
    "                     [-math.sin(ry), 0, math.cos(ry)]], dtype=np.float32)\n",
    "\n",
    "def RZ(rz):\n",
    "    return np.array([[math.cos(rz), -math.sin(rz), 0],\n",
    "                     [math.sin(rz), math.cos(rz), 0],\n",
    "                     [0, 0, 1]], dtype=np.float32)"
   ]
  },
  {
   "cell_type": "code",
   "execution_count": 3,
   "metadata": {},
   "outputs": [
    {
     "name": "stdout",
     "output_type": "stream",
     "text": [
      "(4, 160)\n"
     ]
    }
   ],
   "source": [
    "# read xyz file\n",
    "# format Homogenous Coordinate\n",
    "X = np.loadtxt(\"../bin/data/box.xyz\")\n",
    "X = np.hstack((X, np.ones((X.shape[0], 1)))).T\n",
    "print(X.shape)"
   ]
  },
  {
   "attachments": {},
   "cell_type": "markdown",
   "metadata": {},
   "source": [
    "\n",
    "### Camera Intrinsic Parameter\n",
    "\n",
    "$\n",
    "f = 1000, cx = 320, cy = 240 \\\\\n",
    "K = \\begin{bmatrix} f & 0 & cx \\\\ 0 & f & cy \\\\ 0 & 0 & 1 \\end{bmatrix}\n",
    "$\n",
    "\n",
    "Camera Orientation and Position   \n",
    "Projection Matrix P\n",
    "$\n",
    "\\begin{aligned}\n",
    "R_c &= R_z(\\theta_z) R_y(\\theta_y) R_x(\\theta_x) \\\\\n",
    "t_c &= \\begin{bmatrix} t_x \\\\ t_y \\\\ t_z \\end{bmatrix} \\\\\n",
    "\\\\\n",
    "R &= R_c^T \\\\\n",
    "t &= -R_c^T t_c \\\\\n",
    "P &= K [R|t] \\\\\n",
    "\\end{aligned}\n",
    "$"
   ]
  },
  {
   "cell_type": "code",
   "execution_count": 4,
   "metadata": {},
   "outputs": [],
   "source": [
    "# Camera Intrinsic Parameter\n",
    "f, cx, cy = 1000, 320, 240\n",
    "# Camera Orientation and Position\n",
    "cam_ori = np.array([[0, 0, 0], [-np.pi/12 , np.pi/12, 0], [np.pi/12, -np.pi/12, 0], [np.pi/12, np.pi/12, 0], [-np.pi/12, -np.pi/12, 0]])\n",
    "cam_pose = np.array([[0, 0, 0], [-2, -2, 0], [2, 2, 0], [-2, 2, 0], [2, -2 ,0]])\n",
    "# image resolution\n",
    "img_res = np.array([480, 640])\n",
    "# set noise std\n",
    "noise_std = 1"
   ]
  },
  {
   "cell_type": "code",
   "execution_count": 5,
   "metadata": {},
   "outputs": [],
   "source": [
    "# Generate images for each camera pose\n",
    "K = np.array([[f, 0, cx],\n",
    "              [0, f, cy],\n",
    "              [0, 0, 1]])\n",
    "images = []\n",
    "for i, (ori, pose) in enumerate(zip(cam_ori, cam_pose)):\n",
    "    # Derive a projection Matrix\n",
    "    Rc = RZ(ori[2]) @ RY(ori[1]) @ RX(ori[0])\n",
    "    tc = pose\n",
    "    R = Rc.T\n",
    "    t = -Rc.T @ tc\n",
    "    Rt = np.hstack((R, t.reshape(3, 1)))    \n",
    "    P = K @ Rt\n",
    "    \n",
    "    # # Project the points\n",
    "    x = P @ X # 3xN\n",
    "    x /= x[2] # 3xN a, b, 1\n",
    "    \n",
    "    # # Add Gaussian Noise\n",
    "    noise = np.random.normal(0, noise_std, size=(x.shape))\n",
    "    x += noise\n",
    "    \n",
    "    # Show and store the points\n",
    "    image = np.zeros(img_res)\n",
    "    for p in x.T:\n",
    "        if p[0] >= 0 and p[0] < image.shape[1] and p[1] >= 0 and p[1] < image.shape[0]:\n",
    "            image = cv2.circle(image, (int(p[0]), int(p[1])), 2, 255, -1)\n",
    "    images.append(image)\n",
    "    # Save points file\n",
    "    points_file = f\"../bin/data/image_formation{i}.xyz\"\n",
    "    with open(points_file, 'wt') as f:\n",
    "        for p in x.T:\n",
    "            data = f\"{p[0]} {p[1]} 1\\n\"\n",
    "            f.write(data)    "
   ]
  },
  {
   "cell_type": "code",
   "execution_count": 6,
   "metadata": {},
   "outputs": [
    {
     "data": {
      "text/plain": [
       "<matplotlib.image.AxesImage at 0x2455cbdb220>"
      ]
     },
     "execution_count": 6,
     "metadata": {},
     "output_type": "execute_result"
    },
    {
     "data": {
      "image/png": "[encoded data removed]",
      "text/plain": [
       "<Figure size 1000x2000 with 1 Axes>"
      ]
     },
     "metadata": {},
     "output_type": "display_data"
    }
   ],
   "source": [
    "images = np.hstack(images)\n",
    "plt.figure(figsize=(10, 20))\n",
    "plt.imshow(images)"
   ]
  },
  {
   "cell_type": "code",
   "execution_count": null,
   "metadata": {},
   "outputs": [],
   "source": []
  }
 ],
 "metadata": {
  "kernelspec": {
   "display_name": "vision",
   "language": "python",
   "name": "python3"
  },
  "language_info": {
   "codemirror_mode": {
    "name": "ipython",
    "version": 3
   },
   "file_extension": ".py",
   "mimetype": "text/x-python",
   "name": "python",
   "nbconvert_exporter": "python",
   "pygments_lexer": "ipython3",
   "version": "3.9.16"
  },
  "orig_nbformat": 4,
  "vscode": {
   "interpreter": {
    "hash": "bc130299be0016a5daf33d31d03fdedf4519ce2fe80fbdaa64a3c2818a689d05"
   }
  }
 },
 "nbformat": 4,
 "nbformat_minor": 2
}
